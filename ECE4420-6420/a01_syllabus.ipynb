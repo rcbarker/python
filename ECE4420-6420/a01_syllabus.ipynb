{
 "cells": [
  {
   "cell_type": "markdown",
   "id": "258af3fc",
   "metadata": {
    "slideshow": {
     "slide_type": "slide"
    }
   },
   "source": [
    "# Syllabus\n",
    "\n",
    "- Updated: 2024\n",
    "- Duration: 75 minutes\n",
    "\n",
    "<hr>"
   ]
  },
  {
   "cell_type": "markdown",
   "id": "d7a54f6a",
   "metadata": {
    "slideshow": {
     "slide_type": "slide"
    }
   },
   "source": [
    "## Copyright\n",
    "\n",
    "1. Materials (including but not limited to slides, notes, and homework) in this course are copyrighted.\n",
    "2. They are intended for use only by students registered and enrolled in this course and only for instructional activities associated with and for the duration of the course.\n",
    "3. It is strictly forbidden to share any part of this message with any third party, without the written consent of the instructor."
   ]
  },
  {
   "cell_type": "markdown",
   "id": "a2e9e799",
   "metadata": {
    "slideshow": {
     "slide_type": "slide"
    }
   },
   "source": [
    "## Course Information\n",
    "\n",
    "* Class hour:\n",
    "  * TuTh 11:00 AM – 12:15 PM\n",
    "* Meeting location:\n",
    "  * Jordan Hall, G33 auditorium\n",
    "* Instructor: \n",
    "  * Yongkai Wu [yongkaw@clemson.edu](mailto:yongkaw@clemson.edu) (not **@g.clemson.edu**)\n",
    "* Grader:\n",
    "    * TBD"
   ]
  },
  {
   "cell_type": "markdown",
   "id": "2b1802e0",
   "metadata": {
    "slideshow": {
     "slide_type": "slide"
    }
   },
   "source": [
    "* Communication\n",
    "    * Email is preferred to Canvas Message.\n",
    "    * **All emails should be sent to both instructor and grader simultaneously.**\n",
    "    \n",
    "* Office hours:\n",
    "  * Instructor: Tu 9:00 - 11:00 AM\n",
    "  * Appointments must be scheduled one day prior via this [MS Booking](https://outlook.office365.com/owa/calendar/WusOfficeHour@Clemson.onmicrosoft.com/bookings/)."
   ]
  },
  {
   "cell_type": "markdown",
   "id": "37c47fea",
   "metadata": {
    "slideshow": {
     "slide_type": "slide"
    }
   },
   "source": [
    "### About the Instructor\n",
    "\n",
    "* Yongkai Wu\n",
    "  * 2010-2015, BE & ME in CE, Tsinghua University.\n",
    "  * 2015-2020, Ph.D. in Computer Science, Univ. of Arkansas\n",
    "  * 2020-now, Assistant Prof., Clemson University\n",
    "* Research Interests\n",
    "  * Machine learning and artificial intelligence\n",
    "  * Fairness, interpretability, trustworthy ML/AI\n",
    "  * [Hiring!] Open research positions for undergraduate/graduate students\n"
   ]
  },
  {
   "cell_type": "markdown",
   "id": "9138f6ab",
   "metadata": {
    "slideshow": {
     "slide_type": "slide"
    }
   },
   "source": [
    "## About the Course\n",
    "\n",
    "* TL;DR\n",
    "  * Machine Learning with Python for Beginners.\n",
    "    * What is machine learning?\n",
    "    * What components does machine learning have?\n",
    "    * How to build a machine learning project with Python tools?\n",
    "\n",
    "* Topics include:\n",
    "  * Machine Learning fundamentals and concepts\n",
    "  * Tools"
   ]
  },
  {
   "cell_type": "markdown",
   "id": "33573d7d",
   "metadata": {
    "slideshow": {
     "slide_type": "slide"
    }
   },
   "source": [
    "## Course Background"
   ]
  },
  {
   "cell_type": "markdown",
   "id": "87a99f03",
   "metadata": {
    "slideshow": {
     "slide_type": "slide"
    }
   },
   "source": [
    "### History of AI Courses in ECE\n",
    "\n",
    "- ECE 4420/6420: Knowledge engineering\n",
    "- ECE 8550: Artificial Intelligence\n",
    "- ECE 8560: Pattern Recognition\n",
    "- ECE 8720: Artificial Neural Networks"
   ]
  },
  {
   "cell_type": "markdown",
   "id": "5aa0dc03",
   "metadata": {
    "slideshow": {
     "slide_type": "slide"
    }
   },
   "source": [
    "### AI is becoming different…\n",
    "\n",
    "[Machine learning v.s. Knowledge engineering (1950-2019)](https://books.google.com/ngrams/graph?content=machine+learning%2Cknowledge+engineering&year_start=1950&year_end=2019&corpus=26&smoothing=3)\n",
    "\n",
    "[Machine learning v.s. Knowledge engineering v.s. Deep learning (1950-2019)](https://books.google.com/ngrams/graph?content=machine+learning%2Cdeep+learning%2Cknowledge+engineering&year_start=1950&year_end=2019&corpus=26&smoothing=3)"
   ]
  },
  {
   "cell_type": "markdown",
   "id": "23f8319b",
   "metadata": {
    "slideshow": {
     "slide_type": "slide"
    }
   },
   "source": [
    "### New ECE 4420/6420\n",
    "\n",
    "* Computation Foundation\n",
    "  * Python\n",
    "  * NumPy\n",
    "  * Pandas\n",
    "  * Scikit learn\n",
    "* Machine Learning\n",
    "  * Regression: linear regression, lasso, ridge\n",
    "  * Classification: logistic regression, SVM, kNN\n",
    "  * Clustering: k-means\n",
    "  * Dimension reduction: PCA, LDA\n",
    "  * ML practice"
   ]
  },
  {
   "cell_type": "markdown",
   "id": "c5a04cae",
   "metadata": {
    "slideshow": {
     "slide_type": "slide"
    }
   },
   "source": [
    "### New ECE 8550\n",
    "\n",
    "* Machine Learning Basics\n",
    "  * Empirical risk minimization\n",
    "  * PyTorch\n",
    "* Deep Learning\n",
    "  * Multi-Layer Perceptron\n",
    "  * Convolutional Neural Networks\n",
    "  * Recurrent Neural Networks\n",
    "* Deep Learning Applications\n",
    "  * GAN/VAE\n",
    "  * AE\n",
    "* Deep Learning Reading"
   ]
  },
  {
   "cell_type": "markdown",
   "id": "fe2af319",
   "metadata": {
    "slideshow": {
     "slide_type": "slide"
    }
   },
   "source": [
    "## Course Introduction"
   ]
  },
  {
   "cell_type": "markdown",
   "id": "1783f461",
   "metadata": {
    "slideshow": {
     "slide_type": "slide"
    }
   },
   "source": [
    "### Course Prerequisite\n",
    "\n",
    "* Expectation from the instructor:\n",
    "  * Basic probability and statistics\n",
    "    * Understand the basics of probabilities, Gaussian distributions, mean, standard deviation, etc.\n",
    "  * Basic calculus, linear algebra…\n",
    "    * Be comfortable taking derivatives and understanding matrix/vector notation and operations. (e.g., matrix multiplication).\n",
    "  *A solid programming skill (Python)\n",
    "    * Python Eco-systems for Machine Learning\n",
    "    * Students should be familiar with Numpy, Pandas, scikit learn, Matplotlib, Jupyter Notebook"
   ]
  },
  {
   "cell_type": "markdown",
   "id": "169170dc",
   "metadata": {
    "slideshow": {
     "slide_type": "slide"
    }
   },
   "source": [
    "### Some video tutorials for Python\n",
    "- [Python for Beginners Tutorial](https://www.youtube.com/watch?v=b093aqAZiPU)\n",
    "- [Complete Python Pandas Data Science Tutorial](https://www.youtube.com/watch?v=vmEHCJofslg)\n",
    "- [Python NumPy Tutorial for Beginners](https://www.youtube.com/watch?v=QUT1VHiLmmI)\n",
    "\n",
    "Clemson Research Computing & Data holds workshops in Python every semester. Please check [Introduction to Python Programming](https://docs.rcd.clemson.edu/training/workshop_catalog/python/python_intro/)."
   ]
  },
  {
   "cell_type": "markdown",
   "id": "750eca06",
   "metadata": {
    "slideshow": {
     "slide_type": "slide"
    }
   },
   "source": [
    "### Learning Outcomes\n",
    "\n",
    "* Know the history and trend of machine learning.\n",
    "* Understand machine learning concepts and technologies.\n",
    "  * What is xx?\n",
    "  * How/Why does xx work?\n",
    "* Apply common practical AI technologies to projects.\n",
    "  * Can we apply xx to our research?\n",
    "  * What tools/software are necessary?"
   ]
  },
  {
   "cell_type": "markdown",
   "id": "91dcda04",
   "metadata": {
    "slideshow": {
     "slide_type": "slide"
    }
   },
   "source": [
    "### Course Materials\n",
    "\n",
    "* No Textbooks Required!\n",
    "* Recommended books\n",
    "  * Kevin Murphy (2012). [Machine Learning: A Probabilistic Perspective](http://noiselab.ucsd.edu/ECE228/Murphy_Machine_Learning.pdf).\n",
    "  * Sebastian Raschka et al. (2022). [Machine Learning with PyTorch and Scikit-Learn](https://www.packtpub.com/product/machine-learning-with-pytorch-and-scikit-learn/9781801819312).\n",
    "  * Andreas Muller et al. (2016). [Introduction to Machine Learning with Python](https://www.oreilly.com/library/view/introduction-to-machine/9781449369880/)."
   ]
  },
  {
   "cell_type": "markdown",
   "id": "de17bbf3",
   "metadata": {
    "slideshow": {
     "slide_type": "slide"
    }
   },
   "source": [
    "<!-- ![books](img/books.png) -->\n",
    "<center><img src=\"https://yongkaw.people.clemson.edu/ece4420/img/books.png\" alt=\"books.png\" height=\"90%\"></center>"
   ]
  },
  {
   "cell_type": "markdown",
   "id": "c6d8527f",
   "metadata": {
    "slideshow": {
     "slide_type": "slide"
    }
   },
   "source": [
    "### Notebooks\n",
    "\n",
    "- This class use **Jupyter Notebooks** hosted at https://yongkaw.people.clemson.edu/ece4420/latest/.\n",
    "    - Web pages, Jupyter Notebook, Slides \n",
    "- You are suggested to read the corresponding webpage **before** each class.\n",
    "- You are **required** to run notebooks (*.ipynb) **after** the class.\n",
    "\n",
    "    <!-- ![corner.png](img/corner.png) -->\n",
    "    <center><img src=\"https://yongkaw.people.clemson.edu/ece4420/img/corner.png\" alt=\"corner.png\" width=\"65%\"></center>"
   ]
  },
  {
   "cell_type": "markdown",
   "id": "2f51ae74",
   "metadata": {
    "slideshow": {
     "slide_type": "slide"
    }
   },
   "source": [
    "### Grading\n",
    "\n",
    "* Weighting\n",
    "  * Homework - 60%\n",
    "    * 5 assignments\n",
    "    * Equal contributions\n",
    "  * Project - 20%\n",
    "  * Inclass quizzes – 10%\n",
    "    * 5 quizzes, 2% per quiz\n",
    "    * ECE 6420 has different versions.\n",
    "  * Final exam - 10%\n",
    "  \n",
    "  Some components allow multiple submissions. Only the most recent one will be considered for grading."
   ]
  },
  {
   "cell_type": "markdown",
   "id": "b23b312c",
   "metadata": {
    "slideshow": {
     "slide_type": "slide"
    }
   },
   "source": [
    "| ECE 4420 |      ECE 6420 |\n",
    "| :-: | :-: |\n",
    "| [90, 100]: A | [90, 100]: A |\n",
    "| [80,  90): B | [80,  90): B |\n",
    "| [70,  80): C | [70,  80): C |\n",
    "| [60,  70): D  | [ 0, 70]: F |\n",
    "|  [ 0,  60]: F |  |"
   ]
  },
  {
   "cell_type": "markdown",
   "id": "13dd10cb",
   "metadata": {
    "slideshow": {
     "slide_type": "slide"
    }
   },
   "source": [
    "### Assignments\n",
    "\n",
    "* Programming assignments.\n",
    "  * Students are encouraged to get help from books/Internet/anyone else.\n",
    "  * [Plagiarism](https://codequiry.com/code-plagiarism) is not allowed.\n",
    "  * Any plagiarism will be reported to the Department and University.\n",
    "  * LLM (e.g., ChatGPT or Claude) is not allowed for assignments and quizzes.\n",
    "  * All submissions are tested by Stanford's plagiarism checker [MOSS](https://theory.stanford.edu/~aiken/moss/) and LLM-detector [GPTZero](https://gptzero.me/ \"The Trusted AI Detector for ChatGPT, GPT-4, & More | GPTZero\").\n",
    "\n",
    "[https://codequiry.com/code-plagiarism](https://codequiry.com/code-plagiarism)"
   ]
  },
  {
   "cell_type": "markdown",
   "id": "ea0fe127",
   "metadata": {
    "slideshow": {
     "slide_type": "slide"
    }
   },
   "source": [
    "Time spent on homework\n",
    "\n",
    "| HW   | 10 hr    | 20 hr   | > 20 hr |\n",
    "|------|----------|---------|---------|\n",
    "| hw 1 | ?        | ?       |?        |\n",
    "| hw 2 | 71%      | 24%     |5%       |\n",
    "| hw 3 | 53%      | 36%     |11%      |\n",
    "| hw 4 | 39%      | 39%     |22%      |\n",
    "| hw 5 | 21%      | 50%     |39%      |"
   ]
  },
  {
   "cell_type": "markdown",
   "id": "d8eeb871",
   "metadata": {
    "slideshow": {
     "slide_type": "slide"
    }
   },
   "source": [
    "### Project\n",
    "\n",
    "\n",
    "- Students collaborate in teams, each comprising 3 to 4 members.\n",
    "- Each group participates in any one of the [Kaggle competitions](https://www.kaggle.com/competitions).\n",
    "- You must try several different methods to solve the problem.\n",
    "- The methods you finally choose for the competition do not have to be a model taught in this course.\n",
    "- You must compare your fancy methods with simple baselines, e.g., random guess, all-positive, all-negative, simple linear models, and beat the baselines.\n",
    "- The evaluation metric must be the one required by the competition.\n",
    "\n",
    "**More details will be available soon.**"
   ]
  },
  {
   "cell_type": "markdown",
   "id": "941179aa",
   "metadata": {
    "slideshow": {
     "slide_type": "slide"
    }
   },
   "source": [
    "### Quizzes\n",
    "\n",
    "1. 20 minutes.\n",
    "2. Taken in class and via Canvas and LockDown Browser.\n",
    "3. Solutions are available and only available right after the quiz. *Please read them carefully if you have wrong responses.*"
   ]
  },
  {
   "cell_type": "markdown",
   "id": "6329719e",
   "metadata": {
    "slideshow": {
     "slide_type": "skip"
    }
   },
   "source": [
    "### Final Exam\n",
    "\n",
    "1. In the designated date and in-person.\n",
    "2. via Canvas.\n",
    "3. Similar to a quiz but with more questions.\n",
    "4. This exam is required for all students regardless of grades."
   ]
  },
  {
   "cell_type": "markdown",
   "id": "78112495",
   "metadata": {
    "slideshow": {
     "slide_type": "slide"
    }
   },
   "source": [
    "## Rules and Policies\n",
    "\n",
    "### Enable Canvas notification\n",
    "\n",
    "<!-- ![canvas_notification](img/canvas_notification.png) -->\n",
    "<center><img src=\"https://yongkaw.people.clemson.edu/ece4420/img/canvas_notification.png\" alt=\"canvas_notification.png\" wirdth=\"90%\"></center>"
   ]
  },
  {
   "cell_type": "markdown",
   "id": "f7bbf454",
   "metadata": {
    "slideshow": {
     "slide_type": "slide"
    }
   },
   "source": [
    "### Check Canvas frequently\n",
    "* Canvas has\n",
    "  * Schedule\n",
    "  * Announcement\n",
    "  * Materials\n",
    "  * Assignments/quizzes\n",
    "* Please\n",
    "  * Check Canvas frequently\n",
    "  * Enable the notification:"
   ]
  },
  {
   "cell_type": "markdown",
   "id": "cc046cae",
   "metadata": {
    "slideshow": {
     "slide_type": "slide"
    }
   },
   "source": [
    "### Course Materials\n",
    "\n",
    "* Slides, notes, quizzes, exams, and assignments\n",
    "  * All contents are copyrighted only\n",
    "    * For use by students registered and enrolled in this course,\n",
    "    * For instructional activities associated with this course,\n",
    "    * For the duration of the course this semester.\n",
    "  * It is not allowed to be distributed to any third party without written permission from the instructor.\n",
    "  * Continued enrollment in this class signifies your intent to abide by the policy. Any violation will be reported to Clemson University.\n",
    "  * If any third party attempts to obtain the materials from you, I would appreciate your bringing this to my attention."
   ]
  },
  {
   "cell_type": "markdown",
   "id": "865723f1",
   "metadata": {
    "slideshow": {
     "slide_type": "slide"
    }
   },
   "source": [
    "### Equipment Requirements\n",
    "\n",
    "* For learning\n",
    "    * Internet for transmitting and receiving slides, notebooks, and other materials.\n",
    "    * Lockdown Browser installed\n",
    "* For in-class practice, homework and final projects\n",
    "    * A computer with\n",
    "        * a multi-core CPU\n",
    "        * \\>8GB RAM\n",
    "        * \\>10GB free storage space\n",
    "    * A smart phone with **Canvas Student** APP for attendance check and class interaction\n",
    "        * [Canvas Student on the App Store](https://apps.apple.com/ca/app/canvas-student/id480883488 \"Canvas Student on the App Store\")\n",
    "        * [Canvas Student - Apps on Google Play](https://play.google.com/store/apps/details?id=com.instructure.candroid&hl=en_US&gl=US \"Canvas Student - Apps on Google Play\")"
   ]
  },
  {
   "cell_type": "markdown",
   "id": "6e7ed27b",
   "metadata": {
    "slideshow": {
     "slide_type": "slide"
    }
   },
   "source": [
    "### Attendance and Absence\n",
    "\n",
    "* Attendance is required.\n",
    " - Attendance is mandatory in person for all students at the main campus. If not attending in person (even though attending via Zoom), it will be considered an absence.\n",
    " - Charleston Campus Students are provided with Zoom links to attend the class virtually. If not joining the zoom session, it will be considered an absence.\n",
    "* Attending class is a significant contributor to student learning and intellectual growth.\n",
    "  * Lectures and discussions are essential to homework, quizzes, and exams.\n",
    "* Students can leave if the instructor is more than 15 minutes late to class without any prior notification from the instructor."
   ]
  },
  {
   "cell_type": "markdown",
   "id": "d8217a8c",
   "metadata": {
    "slideshow": {
     "slide_type": "slide"
    }
   },
   "source": [
    "### Absence and Zoom Participation Policy for Main Campus Students\n",
    "\n",
    "* Notification of Absence: If you cannot attend a class in person, you must submit a [Notification of Absence](https://www.clemson.edu/studentaffairs/find-support/shs/class-absence.html). This should be done prior to the class session you will miss.\n",
    "* This module is available at Canvas to inform the instructor of unavoidable absences."
   ]
  },
  {
   "cell_type": "markdown",
   "id": "8c934837",
   "metadata": {
    "slideshow": {
     "slide_type": "slide"
    }
   },
   "source": [
    "### Submissions of Homework, Project, …\n",
    "\n",
    "* For assignments and projects,\n",
    "  * Electronic  submission through Canvas\n",
    "  * Files must be of common types (zip, pdf, py, ipynb, HTML)\n",
    "  * Only the final submission from each student will be graded and counted towards their grade.\n",
    "* It is the student's responsibility to confirm\n",
    "  * The files have been successfully and correctly submitted to Canvas.\n",
    "  *Wrong/missing/broken submissions may lead to a grade of zero.\n",
    "* Contact me for any additional information\n",
    "  * Could I make a submission that has been turned in for another class?\n",
    "    * Usually no. Please contact me if you have any questions."
   ]
  },
  {
   "cell_type": "markdown",
   "id": "6b01fef5",
   "metadata": {
    "slideshow": {
     "slide_type": "slide"
    }
   },
   "source": [
    "### Late Policy for Homework, Project, …\n",
    "\n",
    "- The cutoff for on-time submission is 11:59 pm (East Time) on the due dates\n",
    "- Late days are counted in 24-hour periods.\n",
    "- Late work is discounted by 5% per calendar day.\n",
    "- Late submissions are not accepted after 7 calendar days past the original due date and are graded as zero immediately."
   ]
  },
  {
   "cell_type": "markdown",
   "id": "17579a84",
   "metadata": {
    "slideshow": {
     "slide_type": "slide"
    }
   },
   "source": [
    "### Extension for Unusual Circumstances\n",
    "\n",
    "* Assignments and Projects\n",
    "  * Extensions without penalties may be given only in unusual circumstances.\n",
    "* Exams\n",
    "  * Exams must be taken on the day they are given.\n",
    "  * Make-ups will be given only in unusual circumstances."
   ]
  },
  {
   "cell_type": "markdown",
   "id": "781d6cc3",
   "metadata": {
    "slideshow": {
     "slide_type": "slide"
    }
   },
   "source": [
    "### Extension Request\n",
    "\n",
    "* Students may request extensions for unusual circumstances\n",
    "  * Request extensions as early as possible:\n",
    "    * **At least three business day** prior to the due/exam dates for **anticipated events**, e.g., travel, interviews, routine doctor visits, and surgeries.\n",
    "    * **Within one week** of occurrence for **unanticipated events**, e.g., illness or accidents.\n",
    "  * Some \"usual\" circumstances:\n",
    "    * Travel\n",
    "    * TA/RA duties\n",
    "    * Exams & assignments from other classes\n",
    "    * Crashed computers/programming environments"
   ]
  },
  {
   "cell_type": "markdown",
   "id": "f4076429",
   "metadata": {
    "slideshow": {
     "slide_type": "slide"
    }
   },
   "source": [
    "  * In the email body, include\n",
    "    * quiz or homework number\n",
    "    * the reason,\n",
    "    * a documented note,\n",
    "    * and the extension of days you request. The default extension is **three days**.\n",
    "  * The instructor will respond in 36 hours.\n",
    "    * Students will be informed if more evidence is needed for consideration.\n",
    "    * If approved, a reasonable period will be granted.\n",
    "    * This extension only works for the assignment/quiz/exam students request."
   ]
  },
  {
   "cell_type": "markdown",
   "id": "8f001511",
   "metadata": {
    "slideshow": {
     "slide_type": "slide"
    }
   },
   "source": [
    "### Hard deadline for all\n",
    "\n",
    "All extended homework and quizzes must be finished by the Friday before the exam week.\n",
    "After that date, no make-up would be accepted."
   ]
  },
  {
   "cell_type": "markdown",
   "id": "7bf424b5",
   "metadata": {
    "slideshow": {
     "slide_type": "slide"
    }
   },
   "source": [
    "### If Something is Wrong during Submissions,\n",
    "\n",
    "- If the files cannot be uploaded due to unprecedented reasons, please email the homework as attachments to the instructor.\n",
    "- The instructor will reply to confirm the homework received in one business day.\n",
    "- If the instructor does not reply in one business day, the email may not be successfully delivered. Please contact the instructor immediately."
   ]
  },
  {
   "cell_type": "markdown",
   "id": "87ee6f8b",
   "metadata": {
    "slideshow": {
     "slide_type": "slide"
    }
   },
   "source": [
    "### Tips for Avoiding Missing/Broken/Wrong Submissions\n",
    "\n",
    "Check the submission promptly.\n",
    "\n",
    "<!-- ![](img/prompt.png) -->\n",
    "<center><img src=\"https://yongkaw.people.clemson.edu/ece4420/img/prompt.png\" alt=\"prompt.png\" width=\"70%\"></center>"
   ]
  },
  {
   "cell_type": "markdown",
   "id": "04cf30b1",
   "metadata": {
    "slideshow": {
     "slide_type": "slide"
    }
   },
   "source": [
    "* Check the submission promptly.\n",
    "* Download the files right after submitting.\n",
    "  * Open the files with default programs.\n",
    "  * Go through the files from the beginning to the end.\n",
    "* Contact the IT department if you think there are still some technical issues."
   ]
  },
  {
   "cell_type": "markdown",
   "id": "722bf629",
   "metadata": {
    "slideshow": {
     "slide_type": "slide"
    }
   },
   "source": [
    "### Interaction with Instructor & Peers\n",
    "\n",
    "  * In the class\n",
    "  * Via email (searchable and reliable): yongkaw@clemson.edu\n",
    "    * Subject: [ECE 4420/6420] xxx\n",
    "    * If you have questions about the code, please attach the source code and describe how to reproduce the problem.\n",
    "    * If no response within 2 business days, please follow up.\n",
    "    * The instructor only replies to emails from @clemson.edu or @g.clemoson.edu."
   ]
  },
  {
   "cell_type": "markdown",
   "id": "798e029d",
   "metadata": {
    "slideshow": {
     "slide_type": "slide"
    }
   },
   "source": [
    "### Academic Integrity and Submission Guidelines"
   ]
  },
  {
   "cell_type": "markdown",
   "id": "567ec5e9",
   "metadata": {},
   "source": [
    "In this course, maintaining the highest standards of academic integrity is paramount. \n",
    "\n",
    "1. Therefore, it is imperative that students do not post any course-related materials, including but not limited to homework assignments, quizzes, and projects, in any public web space. \n",
    "2. This prohibition extends to online platforms such as Stack Overflow, GitHub, or any similar sites for debugging or sharing purposes. \n",
    "3. Additionally, creating public repositories containing course material or sharing these materials with friends or peers after the conclusion of the class is strictly forbidden. \n",
    "\n",
    "Any violation of these guidelines will be considered a serious breach of academic integrity and will be dealt with accordingly, following the university's policies on academic misconduct."
   ]
  },
  {
   "cell_type": "markdown",
   "id": "f26da6b6",
   "metadata": {
    "slideshow": {
     "slide_type": "slide"
    }
   },
   "source": [
    "### Responsibility for Protecting Intelligence Work\n",
    "\n",
    "Students are responsible for safeguarding their homework and academic work against unauthorized access or theft. \n",
    "\n",
    "1. This includes ensuring that digital files are securely stored and that physical copies, if applicable, are kept in a safe location. \n",
    "2. It is important to be cautious in environments where others might access your work without permission, such as public computers, unsecured online storage, or shared living spaces. \n",
    "> In the unfortunate event that a student's work is stolen or improperly accessed due to negligence in safeguarding it, the student may be held accountable for any resulting breach of academic integrity. \n",
    "3. Therefore, students are strongly advised to take proactive measures to protect their academic work at all times."
   ]
  },
  {
   "cell_type": "markdown",
   "id": "f30df01f",
   "metadata": {
    "slideshow": {
     "slide_type": "slide"
    }
   },
   "source": [
    "### Tips for having a good grade\n",
    "\n",
    "  * Attend the class\n",
    "  * Read the recommended textbooks and materials\n",
    "  * Finish the assignments/exams on time"
   ]
  },
  {
   "cell_type": "markdown",
   "id": "f319ed57",
   "metadata": {
    "slideshow": {
     "slide_type": "slide"
    }
   },
   "source": [
    "## University Policies\n",
    "\n",
    "* Attendance policy\n",
    "* Accessibility statement\n",
    "* Safe campus\n",
    "*Academic integrity\n",
    "* Copyright Statement\n",
    "  * Materials in classes are intended for use only by students registered and enrolled in a particular course and only for instructional activities associated with and for the duration of the course. They may not be retained in another medium or disseminated further.\n",
    "  * Students must seek permission from instructors to record any class activity, including lectures, discussions, and presentations.\n",
    "  * Students should be reminded to refer to the Use of Copyrighted Materials and “Fair Use Guidelines” policy on the Clemson University website. Additional information can be found [here](https://libraries.clemson.edu/digital-scholarship-publishing/publishing-copyright/).\n",
    "\n",
    "See the syllabus on Canvas."
   ]
  },
  {
   "cell_type": "markdown",
   "id": "7e9f86f5",
   "metadata": {
    "slideshow": {
     "slide_type": "slide"
    }
   },
   "source": [
    "## Any Questions on Syllabus?\n",
    "\n",
    "<hr>"
   ]
  },
  {
   "cell_type": "markdown",
   "id": "41ed6341",
   "metadata": {
    "slideshow": {
     "slide_type": "skip"
    }
   },
   "source": [
    "## Accommodation in the Time of COVID-19\n",
    "\n",
    "Face coverings are required in all university facilities regardless of vaccination status.\n",
    "\n",
    "Sit in the same seat. This will support the university’s ability to effectively do contact tracing as needed.\n",
    "\n",
    "If you cannot attend the class in person for some reason temporarily, you can participate remotely via Zoom."
   ]
  },
  {
   "cell_type": "markdown",
   "id": "05f63da2",
   "metadata": {
    "slideshow": {
     "slide_type": "slide"
    }
   },
   "source": [
    "## Grader Duties\n",
    "\n",
    "* Grade the assignments, quizzes, and exams on time\n",
    "  * expected to be completed _within two weeks_ from TA receiving the solution and criteria\n",
    "* Provide instant and accurate feedback to students & instructor\n",
    "  * A brief report to the instructor, summarizing the common mistakes.\n",
    "  * Some hints or comments for every submission.\n",
    "* 3-5 office hours per week\n",
    "  * Explain the grading\n",
    "  * Answer technical questions\n",
    "  * …"
   ]
  },
  {
   "cell_type": "markdown",
   "id": "b10a7a2e",
   "metadata": {
    "slideshow": {
     "slide_type": "slide"
    }
   },
   "source": [
    "## Homework info & submission guidelines\n",
    "\n",
    "You will be submitting your homework assignments on Canvas."
   ]
  },
  {
   "cell_type": "markdown",
   "id": "94b4179b",
   "metadata": {
    "slideshow": {
     "slide_type": "slide"
    }
   },
   "source": [
    "### Accessing homework assignments\n",
    "\n",
    "- Every homework assignment will be made available on Canvas.\n",
    "- Once it's available, I'll make an announcement in class or via Email.\n",
    "- The assignment will generally consist of a Jupyter notebook along with the necessary code and data or links to download the data.\n",
    "- You will have to set up your computer so that you can work on these assignments locally."
   ]
  },
  {
   "cell_type": "markdown",
   "id": "336f0894",
   "metadata": {
    "slideshow": {
     "slide_type": "slide"
    }
   },
   "source": [
    "### How to submit\n",
    "\n",
    "- To submit your homework you must **submit your final version of the notebook to Canvas** where it will be graded.\n",
    "- Once you submit, you should go there and ensure your assignment is there as expected and that all the output and plots are rendered properly.\n",
    "- **It is your responsibility to make sure your assignment is submitted properly and failure to do so will result in a deduction of marks.**"
   ]
  },
  {
   "cell_type": "markdown",
   "id": "9abe9686",
   "metadata": {
    "slideshow": {
     "slide_type": "slide"
    }
   },
   "source": [
    "### Other submission instructions\n",
    "\n",
    "#### Datasets\n",
    "\n",
    "Unless otherwise noted, please do **not** submit any dataset together with your notebook."
   ]
  },
  {
   "cell_type": "markdown",
   "id": "fed54af0",
   "metadata": {
    "slideshow": {
     "slide_type": "slide"
    }
   },
   "source": [
    "#### Assignment format\n",
    "\n",
    "- Your final report must be submitted online as a Jupyter notebook, so please do not write up your answers on paper!\n",
    "- Be sure that your answers are clearly written and easy for the TA to understand.\n",
    "- The TAs have the option to reduce your mark if your answers aren't clear or are difficult to understand (even if they are correct).\n",
    "- Please do not delete the question cells or move the questions around. This will make things easier for the TAs.\n",
    "- **You must ensure that all your code output (values, tables, figures, etc.) is displayed in the notebook.**"
   ]
  },
  {
   "cell_type": "markdown",
   "id": "e4f8f643",
   "metadata": {
    "slideshow": {
     "slide_type": "slide"
    }
   },
   "source": [
    "For example, if you are required to calculate some value, it is not sufficient to just store the value to a variable, nor is it sufficient to have a `print(value)` in your code - the print code must actually be run, and the notebook saved so that the output is shown on the screen when the notebook is rendered.\n",
    "Likewise, if there are tests (e.g. `assert` statements) provided in the code, make sure these are left in, so we can see the output of the tests.\n",
    "This allows the TAs to see your results without running your code. Failure to display all output will result in a deduction of marks.\n",
    "\n",
    "**If you are unsure whether your report is rendering properly, please download and view it after your submission. This is exactly how your TA will see it.**"
   ]
  },
  {
   "cell_type": "markdown",
   "id": "70366394",
   "metadata": {
    "slideshow": {
     "slide_type": "slide"
    }
   },
   "source": [
    "#### Figures\n",
    "\n",
    "In most assignments, you will be asked to produce plots/figures.\n",
    "When including figures in your submission:\n",
    "\n",
    "- Embed the figures in your report. Make sure your `.ipynb` file includes all the figures you want the TAs to see.\n",
    "- All figures must include axis labels and, if multiple curves are present on the same figure, a legend.\n",
    "- All figures must have some accompanying text explaining what the figure is about. You can do this by putting a figure title in the image itself (such as, \"Training error vs. k\") or you can use LaTeX to add figure captions that appear underneath the figure.\n",
    "- Regardless of your image format, all text must be big enough to read without straining or zooming. Please be careful about this for axis labels, legends, titles, etc. Avoid tiny text!"
   ]
  },
  {
   "cell_type": "markdown",
   "id": "f669a67a",
   "metadata": {
    "slideshow": {
     "slide_type": "slide"
    }
   },
   "source": [
    "### Updates and corrections to assignments\n",
    "\n",
    "If there are errors or other changes that need to be made to an assignment, I will announce them in class or via Email."
   ]
  },
  {
   "cell_type": "markdown",
   "id": "272989f7",
   "metadata": {
    "lines_to_next_cell": 2,
    "slideshow": {
     "slide_type": "slide"
    }
   },
   "source": [
    "### Citing sources\n",
    "\n",
    "- If you use information from students outside your group or from online sources _including code snippets from Stack Overflow_ or lecture notes, cite this at the start of each question.\n",
    "- **You will receive a mark of 0 for the assignment (and possibly other consequences) if you are found copying from other sources without citation**."
   ]
  },
  {
   "cell_type": "markdown",
   "id": "04ba5232",
   "metadata": {
    "slideshow": {
     "slide_type": "slide"
    }
   },
   "source": [
    "## Ask for help\n",
    "\n",
    "### General Questions\n",
    "\n",
    "We will use Canvas Discussion for general questions so that other students benefit from the discussion.\n"
   ]
  },
  {
   "cell_type": "markdown",
   "id": "0ab94505",
   "metadata": {
    "slideshow": {
     "slide_type": "slide"
    }
   },
   "source": [
    "### Guidelines for General Questions\n",
    "When you post questions on Canvas:"
   ]
  },
  {
   "cell_type": "markdown",
   "id": "ed98fca9",
   "metadata": {
    "slideshow": {
     "slide_type": "slide"
    }
   },
   "source": [
    "- Do not post offensive or disrespectful content.\n",
    "- Do a quick search to make sure your question hasn't already been answered.\n",
    "- Ask for help after an appropriate amount of thought and effort.\n",
    "    - Read all the instructions before asking for help. Don't ask questions whose answers are on the course website or homework instructions or on the first page of a Google search. These questions take time away from other instructional activities.\n",
    "    - Don't ask for help after being stuck for only 10 minutes. Make a reasonable effort to solve your problem.\n",
    "   - On the other hand, don't wait until after 5 hours of painful debugging before asking a question. At some point, this just becomes time wasted. This can be exceptionally frustrating if it turns out there was a bug in the assignment (it happens!).\n",
    "   - **As a very rough general guideline, try to work on something for 20-30 minutes and then ask for help.**\n"
   ]
  },
  {
   "cell_type": "markdown",
   "id": "666ac909",
   "metadata": {
    "slideshow": {
     "slide_type": "slide"
    }
   },
   "source": [
    "- Avoid including answers or partial answers in your question/post.\n",
    "- If you have a code problem, include as much relevant information as possible like:\n",
    "  - Your version of Python and relevant libraries\n",
    "  - Your operating system\n",
    "  - The command you used to execute the program\n",
    "  - The entire error message\n",
    "  - Try to make the error reproducible and understandable\n",
    "      - Include the exact command you used to run the code.\n",
    "      - Include the entire error traceback, or at the very least the part showing the line number and error message.\n",
    "- If you post a question and then figure out the answer yourself, please do not delete the question. It's still useful. Ideally, you'd post the answer to your own question for others to benefit.\n",
    "- When using equations, write them in LaTeX syntax and surround them with two dollar signs. For example, `$$2^x$$` will render nicely in Piazza."
   ]
  },
  {
   "cell_type": "markdown",
   "id": "e2bbc9b5",
   "metadata": {
    "slideshow": {
     "slide_type": "slide"
    }
   },
   "source": [
    "### Specific questions\n",
    "- For questions involving your specific implementation of a homework question either use tutorials or office hours or emails. Before posting your specific question, think about whether other people in the class are likely to benefit from your question or not. If yes, formulate your specific question as a general question and post it to the entire class.\n",
    "- Include the file as attachments you want us to review, and a brief explanation.\n",
    "  - If you want to be extra fancy, you can include a link to the specific line by appending a code like `Line 123` to the end of the URL (this would link to Line 123). You can also link to a range of lines, like `Lines 9 - 17` to highlight lines 9-17.\n",
    "- Include steps to reproduce the problem.\n",
    "- Include the error messages."
   ]
  },
  {
   "cell_type": "markdown",
   "id": "e416dc18",
   "metadata": {
    "slideshow": {
     "slide_type": "slide"
    }
   },
   "source": [
    "### Grading-related questions\n",
    "- For questions about your grade, you can just send a message to the grader and instructor.\n",
    "- Clearly mention the name of the assignment, your name and student number, and explain your concern.\n",
    "- If you don't get a timely response (a couple of days), then send it again or knock on the office door."
   ]
  },
  {
   "cell_type": "markdown",
   "id": "0fa66cf5",
   "metadata": {
    "slideshow": {
     "slide_type": "slide"
    }
   },
   "source": [
    "## General Grading Policies\n",
    "\n",
    "### Grading concerns: time limit\n",
    "If you perceive a problem with your homework or exam grade, you have **one week** to raise a concern from the time that your grades were posted. After that, your grade is final."
   ]
  },
  {
   "cell_type": "markdown",
   "id": "93d841ba",
   "metadata": {
    "slideshow": {
     "slide_type": "slide"
    }
   },
   "source": [
    "### Reasonable grading concerns\n",
    "Grades are not perfect; some randomness in grading is normal, meaning that you'll generally get more than you deserve in some cases and less than you deserve in other cases. Thus, it is possible to exploit the system by consistently complaining when your grade is too low but not when it is too high. Unfortunately, this takes time away from the course staff which could have been spent on making the course better for everyone. Thus, in my view, students who overzealously contest grades are penalizing their classmates for personal gain.\n",
    "\n",
    "Sometimes serious grading errors are made, for example when a grader does not see your answer to a question or completely deviates from standard grading practices for some unknown reason. Such situations can be quite frustrating for students, and we want you to feel that the course is fair. In these cases, it makes sense for the student to bring the error to our attention."
   ]
  },
  {
   "cell_type": "markdown",
   "id": "8c7d1480",
   "metadata": {
    "slideshow": {
     "slide_type": "slide"
    }
   },
   "source": [
    "## Recommendation reading materials\n",
    "\n",
    "- [Anaconda Installation](https://docs.anaconda.com/anaconda/install/)\n",
    "- [Jupyter Notebooks](https://clouds.eos.ubc.ca/~phil/docs/problem_solving/02-Jupyter-Notebooks/02.00-Introduction.html)\n",
    "- [Python for Beginners Tutorial](https://www.youtube.com/watch?v=b093aqAZiPU)\n",
    "- [Complete Python Pandas Data Science Tutorial](https://www.youtube.com/watch?v=vmEHCJofslg)\n",
    "- [Python NumPy Tutorial for Beginners](https://www.youtube.com/watch?v=QUT1VHiLmmI)\n",
    "- [Plotting with Matplotlib](https://problemsolvingwithpython.com/06-Plotting-with-Matplotlib/06.00-Introduction/)"
   ]
  },
  {
   "cell_type": "markdown",
   "id": "1cf3cdc3",
   "metadata": {},
   "source": [
    "<hr>"
   ]
  }
 ],
 "metadata": {
  "kernelspec": {
   "display_name": "Python 3 (ipykernel)",
   "language": "python",
   "name": "python3"
  },
  "language_info": {
   "codemirror_mode": {
    "name": "ipython",
    "version": 3
   },
   "file_extension": ".py",
   "mimetype": "text/x-python",
   "name": "python",
   "nbconvert_exporter": "python",
   "pygments_lexer": "ipython3",
   "version": "3.10.12"
  }
 },
 "nbformat": 4,
 "nbformat_minor": 5
}
