{
 "cells": [
  {
   "cell_type": "code",
   "execution_count": 118,
   "id": "5e56fb78-9af4-44f6-a84c-95c6cca0863d",
   "metadata": {},
   "outputs": [],
   "source": [
    "def times2(var):return var*2"
   ]
  },
  {
   "cell_type": "code",
   "execution_count": 106,
   "id": "efcfaf56-216b-4ec8-8d7e-d8613673d504",
   "metadata": {},
   "outputs": [
    {
     "data": {
      "text/plain": [
       "10"
      ]
     },
     "execution_count": 106,
     "metadata": {},
     "output_type": "execute_result"
    }
   ],
   "source": [
    "times2(5)"
   ]
  },
  {
   "cell_type": "code",
   "execution_count": 108,
   "id": "49e4ebc0-9c2d-44ba-92b4-5e3ac71f475d",
   "metadata": {},
   "outputs": [],
   "source": [
    "# map()"
   ]
  },
  {
   "cell_type": "code",
   "execution_count": 110,
   "id": "c4815dca-c611-4d44-9edb-fb4d5a47d27e",
   "metadata": {},
   "outputs": [],
   "source": [
    "seq = [1,2,3,4,5]"
   ]
  },
  {
   "cell_type": "code",
   "execution_count": 120,
   "id": "96f90ae9-ff7d-4be9-86dd-1c11c9c483b2",
   "metadata": {},
   "outputs": [
    {
     "data": {
      "text/plain": [
       "[2, 4, 6, 8, 10]"
      ]
     },
     "execution_count": 120,
     "metadata": {},
     "output_type": "execute_result"
    }
   ],
   "source": [
    "list(map(times2, seq))"
   ]
  },
  {
   "cell_type": "code",
   "execution_count": 132,
   "id": "b43cc403-923e-4b01-afbb-322bd5cf1cef",
   "metadata": {},
   "outputs": [
    {
     "data": {
      "text/plain": [
       "[3, 6, 9, 12, 15]"
      ]
     },
     "execution_count": 132,
     "metadata": {},
     "output_type": "execute_result"
    }
   ],
   "source": [
    "list(map(lambda num:num*3, seq))"
   ]
  },
  {
   "cell_type": "code",
   "execution_count": 124,
   "id": "432f73c9-7c1c-49f4-8327-10336c117a23",
   "metadata": {},
   "outputs": [],
   "source": [
    "t = lambda var:var*2"
   ]
  },
  {
   "cell_type": "code",
   "execution_count": 126,
   "id": "a5fc7b4f-a660-4eeb-86b4-725122579b2b",
   "metadata": {},
   "outputs": [
    {
     "data": {
      "text/plain": [
       "12"
      ]
     },
     "execution_count": 126,
     "metadata": {},
     "output_type": "execute_result"
    }
   ],
   "source": [
    "t(6)"
   ]
  },
  {
   "cell_type": "code",
   "execution_count": 134,
   "id": "a3baa038-ebf5-4761-8677-26d6418c824e",
   "metadata": {},
   "outputs": [],
   "source": [
    "# Lamba expressions allow us to express functions in efficient shorthand format"
   ]
  },
  {
   "cell_type": "code",
   "execution_count": 136,
   "id": "5f98f678-69d5-41b7-b313-057f2a597c52",
   "metadata": {},
   "outputs": [],
   "source": [
    "# This will be very relevant to Pandas"
   ]
  },
  {
   "cell_type": "code",
   "execution_count": 142,
   "id": "2faf8cae-e330-4c4a-99f2-b3f22552854c",
   "metadata": {},
   "outputs": [
    {
     "data": {
      "text/plain": [
       "[2, 4]"
      ]
     },
     "execution_count": 142,
     "metadata": {},
     "output_type": "execute_result"
    }
   ],
   "source": [
    "list(filter(lambda num: num%2 == 0, seq))"
   ]
  },
  {
   "cell_type": "code",
   "execution_count": 144,
   "id": "857805e1-b6dd-4bb2-aec5-c042238539da",
   "metadata": {},
   "outputs": [],
   "source": [
    "s = 'hello my name is Sam'"
   ]
  },
  {
   "cell_type": "code",
   "execution_count": 152,
   "id": "7047d328-bdaf-493f-ad38-3a6769943ff0",
   "metadata": {},
   "outputs": [
    {
     "data": {
      "text/plain": [
       "['hello', 'my', 'name', 'is', 'Sam']"
      ]
     },
     "execution_count": 152,
     "metadata": {},
     "output_type": "execute_result"
    }
   ],
   "source": [
    "s.split()"
   ]
  },
  {
   "cell_type": "code",
   "execution_count": 148,
   "id": "17ee4f7e-e432-4743-82e4-4c1110e1238b",
   "metadata": {},
   "outputs": [
    {
     "data": {
      "text/plain": [
       "'hello my name is sam'"
      ]
     },
     "execution_count": 148,
     "metadata": {},
     "output_type": "execute_result"
    }
   ],
   "source": [
    "s.lower()"
   ]
  },
  {
   "cell_type": "code",
   "execution_count": 150,
   "id": "cd291811-9e25-4761-abba-18bc6aa8f7f6",
   "metadata": {},
   "outputs": [
    {
     "data": {
      "text/plain": [
       "'HELLO MY NAME IS SAM'"
      ]
     },
     "execution_count": 150,
     "metadata": {},
     "output_type": "execute_result"
    }
   ],
   "source": [
    "s.upper()"
   ]
  },
  {
   "cell_type": "code",
   "execution_count": 154,
   "id": "28cfaa4a-60ee-4048-bf3a-fc24d2e4cf09",
   "metadata": {},
   "outputs": [],
   "source": [
    "tweet = 'Go Sports! #Sports'"
   ]
  },
  {
   "cell_type": "code",
   "execution_count": 156,
   "id": "06418abf-a397-4a88-9537-0b79d3c59e0a",
   "metadata": {},
   "outputs": [
    {
     "data": {
      "text/plain": [
       "['Go', 'Sports!', '#Sports']"
      ]
     },
     "execution_count": 156,
     "metadata": {},
     "output_type": "execute_result"
    }
   ],
   "source": [
    "tweet.split()"
   ]
  },
  {
   "cell_type": "code",
   "execution_count": 158,
   "id": "8b83ceaf-ac8f-4b16-a999-66b233bfaa27",
   "metadata": {},
   "outputs": [
    {
     "data": {
      "text/plain": [
       "['Go Sports! ', 'Sports']"
      ]
     },
     "execution_count": 158,
     "metadata": {},
     "output_type": "execute_result"
    }
   ],
   "source": [
    "tweet.split('#')"
   ]
  },
  {
   "cell_type": "code",
   "execution_count": 160,
   "id": "6105d1ca-3a5f-4715-b3ca-2c95b58b77b1",
   "metadata": {},
   "outputs": [
    {
     "data": {
      "text/plain": [
       "'Sports'"
      ]
     },
     "execution_count": 160,
     "metadata": {},
     "output_type": "execute_result"
    }
   ],
   "source": [
    "tweet.split('#')[1]"
   ]
  },
  {
   "cell_type": "code",
   "execution_count": 162,
   "id": "ea4554bb-0720-4856-883d-8789872689c8",
   "metadata": {},
   "outputs": [],
   "source": [
    "d = {'k1': 1,'k2': 2}"
   ]
  },
  {
   "cell_type": "code",
   "execution_count": 164,
   "id": "cf582bf1-6a18-43f5-a04e-cdb1249fc41e",
   "metadata": {},
   "outputs": [
    {
     "data": {
      "text/plain": [
       "dict_keys(['k1', 'k2'])"
      ]
     },
     "execution_count": 164,
     "metadata": {},
     "output_type": "execute_result"
    }
   ],
   "source": [
    "d.keys()"
   ]
  },
  {
   "cell_type": "code",
   "execution_count": 166,
   "id": "380701cb-b29c-4571-aafd-72baced38eb0",
   "metadata": {},
   "outputs": [
    {
     "data": {
      "text/plain": [
       "dict_items([('k1', 1), ('k2', 2)])"
      ]
     },
     "execution_count": 166,
     "metadata": {},
     "output_type": "execute_result"
    }
   ],
   "source": [
    "d.items()"
   ]
  },
  {
   "cell_type": "code",
   "execution_count": 168,
   "id": "817b85d5-169f-4c7c-8d4b-65f24ef0967a",
   "metadata": {},
   "outputs": [
    {
     "data": {
      "text/plain": [
       "dict_values([1, 2])"
      ]
     },
     "execution_count": 168,
     "metadata": {},
     "output_type": "execute_result"
    }
   ],
   "source": [
    "d.values()"
   ]
  },
  {
   "cell_type": "code",
   "execution_count": 174,
   "id": "d230f3c1-6424-41a9-8c3b-3833b3c64db6",
   "metadata": {},
   "outputs": [
    {
     "data": {
      "text/plain": [
       "1"
      ]
     },
     "execution_count": 174,
     "metadata": {},
     "output_type": "execute_result"
    }
   ],
   "source": [
    "d.get('k1')"
   ]
  },
  {
   "cell_type": "code",
   "execution_count": 176,
   "id": "6d326648-67d7-481d-ab6a-0b41cb7a73af",
   "metadata": {},
   "outputs": [],
   "source": [
    "lst = [1,2,3]"
   ]
  },
  {
   "cell_type": "code",
   "execution_count": 180,
   "id": "d670a709-537a-42f6-b02c-a3d94153d4cf",
   "metadata": {},
   "outputs": [
    {
     "data": {
      "text/plain": [
       "3"
      ]
     },
     "execution_count": 180,
     "metadata": {},
     "output_type": "execute_result"
    }
   ],
   "source": [
    "lst.pop()"
   ]
  },
  {
   "cell_type": "code",
   "execution_count": 182,
   "id": "0dd4e755-0dde-4fdc-9dda-b8b968f95fcd",
   "metadata": {},
   "outputs": [
    {
     "data": {
      "text/plain": [
       "[1, 2]"
      ]
     },
     "execution_count": 182,
     "metadata": {},
     "output_type": "execute_result"
    }
   ],
   "source": [
    "lst"
   ]
  },
  {
   "cell_type": "code",
   "execution_count": 196,
   "id": "1ef2289a-b739-4709-979c-527262f55bf3",
   "metadata": {},
   "outputs": [],
   "source": [
    "lst = [1,2,3,4,5]"
   ]
  },
  {
   "cell_type": "code",
   "execution_count": 198,
   "id": "d1ffb067-70fd-4dfa-848e-c3f1cb58258a",
   "metadata": {},
   "outputs": [],
   "source": [
    "item = lst.pop()"
   ]
  },
  {
   "cell_type": "code",
   "execution_count": 200,
   "id": "6ee5201f-f11d-4e13-ae2f-11b7c6dd4bdb",
   "metadata": {},
   "outputs": [
    {
     "data": {
      "text/plain": [
       "5"
      ]
     },
     "execution_count": 200,
     "metadata": {},
     "output_type": "execute_result"
    }
   ],
   "source": [
    "item"
   ]
  },
  {
   "cell_type": "code",
   "execution_count": 204,
   "id": "15cb1e7a-f52c-4e68-bc7d-a0efdf988f31",
   "metadata": {},
   "outputs": [
    {
     "data": {
      "text/plain": [
       "[1, 2, 3, 4]"
      ]
     },
     "execution_count": 204,
     "metadata": {},
     "output_type": "execute_result"
    }
   ],
   "source": [
    "lst"
   ]
  },
  {
   "cell_type": "code",
   "execution_count": 206,
   "id": "7e6c4876-d136-437c-b12f-8ff80c505b6c",
   "metadata": {},
   "outputs": [],
   "source": [
    "first = lst.pop(0)"
   ]
  },
  {
   "cell_type": "code",
   "execution_count": 208,
   "id": "acd354a7-b91c-45a7-9131-0a8565b9f3ec",
   "metadata": {},
   "outputs": [
    {
     "data": {
      "text/plain": [
       "[2, 3, 4]"
      ]
     },
     "execution_count": 208,
     "metadata": {},
     "output_type": "execute_result"
    }
   ],
   "source": [
    "lst"
   ]
  },
  {
   "cell_type": "code",
   "execution_count": 210,
   "id": "d1aa368d-ed9f-42c4-9f6f-b218fa4e6afb",
   "metadata": {},
   "outputs": [
    {
     "data": {
      "text/plain": [
       "1"
      ]
     },
     "execution_count": 210,
     "metadata": {},
     "output_type": "execute_result"
    }
   ],
   "source": [
    "first"
   ]
  },
  {
   "cell_type": "code",
   "execution_count": 212,
   "id": "750788a9-501f-4f7e-b98c-a5eb9e6556c1",
   "metadata": {},
   "outputs": [],
   "source": [
    "lst.append('new')"
   ]
  },
  {
   "cell_type": "code",
   "execution_count": 214,
   "id": "0c0ae340-01a0-4621-bc8c-b9b4cdacf674",
   "metadata": {},
   "outputs": [
    {
     "data": {
      "text/plain": [
       "[2, 3, 4, 'new']"
      ]
     },
     "execution_count": 214,
     "metadata": {},
     "output_type": "execute_result"
    }
   ],
   "source": [
    "lst"
   ]
  },
  {
   "cell_type": "code",
   "execution_count": 216,
   "id": "96b58ca3-91a8-4d1e-9b9e-70626a1adc28",
   "metadata": {},
   "outputs": [
    {
     "data": {
      "text/plain": [
       "False"
      ]
     },
     "execution_count": 216,
     "metadata": {},
     "output_type": "execute_result"
    }
   ],
   "source": [
    "'x' in lst"
   ]
  },
  {
   "cell_type": "code",
   "execution_count": 218,
   "id": "f0ba920f-8ef1-467e-b450-58685460979c",
   "metadata": {},
   "outputs": [
    {
     "data": {
      "text/plain": [
       "True"
      ]
     },
     "execution_count": 218,
     "metadata": {},
     "output_type": "execute_result"
    }
   ],
   "source": [
    "'x' in ['x', 'y', 'z']"
   ]
  },
  {
   "cell_type": "code",
   "execution_count": 220,
   "id": "5fa7ff93-8bf7-418f-86c4-51c6b7f572ce",
   "metadata": {},
   "outputs": [],
   "source": [
    "x = [(1,2,),(3,4),(5,6)]"
   ]
  },
  {
   "cell_type": "code",
   "execution_count": 222,
   "id": "048a3ba4-84be-4f95-a372-d33e48fd495c",
   "metadata": {},
   "outputs": [
    {
     "data": {
      "text/plain": [
       "(1, 2)"
      ]
     },
     "execution_count": 222,
     "metadata": {},
     "output_type": "execute_result"
    }
   ],
   "source": [
    "x[0]"
   ]
  },
  {
   "cell_type": "code",
   "execution_count": 224,
   "id": "8146163d-c974-4b95-aceb-f2af9f20cf87",
   "metadata": {},
   "outputs": [
    {
     "data": {
      "text/plain": [
       "2"
      ]
     },
     "execution_count": 224,
     "metadata": {},
     "output_type": "execute_result"
    }
   ],
   "source": [
    "x[0][1]"
   ]
  },
  {
   "cell_type": "code",
   "execution_count": 234,
   "id": "4347434e-beba-474e-ac5e-35c39294b009",
   "metadata": {},
   "outputs": [
    {
     "name": "stdout",
     "output_type": "stream",
     "text": [
      "2\n",
      "4\n",
      "6\n"
     ]
    }
   ],
   "source": [
    "for a,b in x:\n",
    "    print(b)"
   ]
  },
  {
   "cell_type": "code",
   "execution_count": 232,
   "id": "e79605b7-6dca-41ec-bafb-a27c446e4989",
   "metadata": {},
   "outputs": [],
   "source": [
    "#Above is known as tuple unpacking"
   ]
  },
  {
   "cell_type": "code",
   "execution_count": 240,
   "id": "8244a261-1300-4381-91df-b867807eafbc",
   "metadata": {},
   "outputs": [],
   "source": [
    "list = [[1,2], [3,4], [5,6]]"
   ]
  },
  {
   "cell_type": "code",
   "execution_count": 242,
   "id": "ccf5c9ab-b79d-4096-b760-273cc006c5f4",
   "metadata": {},
   "outputs": [
    {
     "name": "stdout",
     "output_type": "stream",
     "text": [
      "2\n",
      "4\n",
      "6\n"
     ]
    }
   ],
   "source": [
    "for a,b in list:\n",
    "    print(b)"
   ]
  },
  {
   "cell_type": "code",
   "execution_count": 244,
   "id": "e06fb226-3e3f-4807-aba6-5c5af5e04c79",
   "metadata": {},
   "outputs": [],
   "source": [
    "#Also works for lists, note that lists are mutable where tuples are immutable."
   ]
  },
  {
   "cell_type": "code",
   "execution_count": null,
   "id": "83a480f6-1c87-420f-accb-a67f02017a30",
   "metadata": {},
   "outputs": [],
   "source": []
  }
 ],
 "metadata": {
  "kernelspec": {
   "display_name": "Python 3 (ipykernel)",
   "language": "python",
   "name": "python3"
  },
  "language_info": {
   "codemirror_mode": {
    "name": "ipython",
    "version": 3
   },
   "file_extension": ".py",
   "mimetype": "text/x-python",
   "name": "python",
   "nbconvert_exporter": "python",
   "pygments_lexer": "ipython3",
   "version": "3.12.4"
  }
 },
 "nbformat": 4,
 "nbformat_minor": 5
}
